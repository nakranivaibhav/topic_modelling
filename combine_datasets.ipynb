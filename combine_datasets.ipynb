{
 "cells": [
  {
   "cell_type": "code",
   "execution_count": 7,
   "metadata": {},
   "outputs": [],
   "source": [
    "import pandas as pd\n",
    "import datetime\n",
    "import json"
   ]
  },
  {
   "cell_type": "code",
   "execution_count": 8,
   "metadata": {},
   "outputs": [],
   "source": [
    "def extract_data(json_data):\n",
    "    result = []\n",
    "    for post in json_data['posts']:\n",
    "        if 'text' in post:\n",
    "            record = {\n",
    "                \"board\": post[\"post_metadata\"][\"source\"][\"board\"],\n",
    "                \"site\": post[\"post_metadata\"][\"source\"][\"site\"],\n",
    "                \"text\": post[\"text\"],\n",
    "                \"time\": datetime.datetime.fromtimestamp(post[\"post_metadata\"]['time'])\n",
    "            }\n",
    "\n",
    "        result.append(record)\n",
    "    return result\n",
    "JSON_PATH = \"/Users/vaibhavnakrani/calel/QAnon-posts.json\"\n",
    "with open(JSON_PATH, \"r\") as f:\n",
    "    data = json.load(f)\n",
    "\n",
    "extracted_data = extract_data(data)\n",
    "\n",
    "df1 = pd.DataFrame(extracted_data)"
   ]
  },
  {
   "cell_type": "code",
   "execution_count": 18,
   "metadata": {},
   "outputs": [],
   "source": [
    "df1['timestamp'] = pd.to_datetime(df1['time'])\n",
    "\n",
    "df1 = df1.filter(['timestamp','text'])"
   ]
  },
  {
   "cell_type": "code",
   "execution_count": 50,
   "metadata": {},
   "outputs": [
    {
     "name": "stderr",
     "output_type": "stream",
     "text": [
      "/var/folders/77/7_fbgxvs6_g1_490bphl4hbm0000gn/T/ipykernel_83039/3168668701.py:1: DtypeWarning: Columns (5,6,10,14,18,19,20,21,22,23,24,25,26,27,28,29,30,31,32,33,34) have mixed types. Specify dtype option on import or set low_memory=False.\n",
      "  df2 = pd.read_csv('/Users/vaibhavnakrani/calel/Data/qanon tweets 20_21/datasets/QAnon tweets.csv',\n"
     ]
    }
   ],
   "source": [
    "df2 = pd.read_csv('/Users/vaibhavnakrani/calel/Data/qanon tweets 20_21/datasets/QAnon tweets.csv',\n",
    "                           on_bad_lines='skip',encoding='latin1')\n",
    "\n",
    "df2 = df2.iloc[:,:18]\n",
    "\n",
    "df2['timestamp'] = pd.to_datetime(df2['created_at'], format='%a %b %d %H:%M:%S %z %Y', errors='coerce')\n",
    "df2['timestamp'] = df2['timestamp'].dt.strftime('%Y-%m-%d %H:%M:%S')\n",
    "\n",
    "df2 = df2.filter(['timestamp','text'])"
   ]
  },
  {
   "cell_type": "code",
   "execution_count": 28,
   "metadata": {},
   "outputs": [],
   "source": [
    "df3 = pd.read_csv('/Users/vaibhavnakrani/calel/Data/Qanon_oct_2017_nov_2018/qanon_4chan.csv')\n",
    "df3['timestamp'] = pd.to_datetime(df3['unix_timestamp'], unit='s')\n",
    "df3.rename(columns={'body':'text'},inplace=True)\n",
    "df3 = df3.filter(['timestamp','text'])"
   ]
  },
  {
   "cell_type": "code",
   "execution_count": 48,
   "metadata": {},
   "outputs": [
    {
     "data": {
      "text/html": [
       "<div>\n",
       "<style scoped>\n",
       "    .dataframe tbody tr th:only-of-type {\n",
       "        vertical-align: middle;\n",
       "    }\n",
       "\n",
       "    .dataframe tbody tr th {\n",
       "        vertical-align: top;\n",
       "    }\n",
       "\n",
       "    .dataframe thead th {\n",
       "        text-align: right;\n",
       "    }\n",
       "</style>\n",
       "<table border=\"1\" class=\"dataframe\">\n",
       "  <thead>\n",
       "    <tr style=\"text-align: right;\">\n",
       "      <th></th>\n",
       "      <th>timestamp</th>\n",
       "      <th>text</th>\n",
       "    </tr>\n",
       "  </thead>\n",
       "  <tbody>\n",
       "    <tr>\n",
       "      <th>0</th>\n",
       "      <td>2017-10-28 00:25:59</td>\n",
       "      <td>&gt;&gt;146934202\\n\\nHow many Qn will fit into Qm fo...</td>\n",
       "    </tr>\n",
       "    <tr>\n",
       "      <th>1</th>\n",
       "      <td>2017-10-28 02:55:21</td>\n",
       "      <td>&gt;&gt;146946694\\nIdentical twins are not 100% iden...</td>\n",
       "    </tr>\n",
       "    <tr>\n",
       "      <th>2</th>\n",
       "      <td>2017-10-28 07:00:00</td>\n",
       "      <td>Q Thanks, Sarah. Obviously, sexual harassment ...</td>\n",
       "    </tr>\n",
       "    <tr>\n",
       "      <th>3</th>\n",
       "      <td>2017-10-28 09:25:16</td>\n",
       "      <td>&gt;&gt;146963402\\nFuck yea! S H R I K E S Q U A D</td>\n",
       "    </tr>\n",
       "    <tr>\n",
       "      <th>4</th>\n",
       "      <td>2017-10-28 15:39:36</td>\n",
       "      <td>&gt;&gt;147001389\\n&gt;and what's Dugin's REAL endgame?...</td>\n",
       "    </tr>\n",
       "  </tbody>\n",
       "</table>\n",
       "</div>"
      ],
      "text/plain": [
       "            timestamp                                               text\n",
       "0 2017-10-28 00:25:59  >>146934202\\n\\nHow many Qn will fit into Qm fo...\n",
       "1 2017-10-28 02:55:21  >>146946694\\nIdentical twins are not 100% iden...\n",
       "2 2017-10-28 07:00:00  Q Thanks, Sarah. Obviously, sexual harassment ...\n",
       "3 2017-10-28 09:25:16       >>146963402\\nFuck yea! S H R I K E S Q U A D\n",
       "4 2017-10-28 15:39:36  >>147001389\\n>and what's Dugin's REAL endgame?..."
      ]
     },
     "execution_count": 48,
     "metadata": {},
     "output_type": "execute_result"
    }
   ],
   "source": [
    "df3.head()"
   ]
  },
  {
   "cell_type": "code",
   "execution_count": 31,
   "metadata": {},
   "outputs": [],
   "source": [
    "df4 = pd.read_csv('/Users/vaibhavnakrani/calel/Data/Qanon_oct_2017_nov_2018/qanon_8chan.csv')\n",
    "df4['timestamp'] = pd.to_datetime(df4['unix_timestamp'], unit='s')\n",
    "df4.rename(columns={'body':'text'},inplace=True)\n",
    "df4 = df4.filter(['timestamp','text'])"
   ]
  },
  {
   "cell_type": "code",
   "execution_count": 34,
   "metadata": {},
   "outputs": [],
   "source": [
    "df5 = pd.read_csv('/Users/vaibhavnakrani/calel/Data/Qanon_oct_2017_nov_2018/qanon_reddit.csv')\n",
    "df5['timestamp'] = pd.to_datetime(df5['unix_timestamp'], unit='s')\n",
    "df5.rename(columns={'body':'text'},inplace=True)\n",
    "df5 = df5.filter(['timestamp','text'])"
   ]
  },
  {
   "cell_type": "code",
   "execution_count": 52,
   "metadata": {},
   "outputs": [
    {
     "data": {
      "image/png": "[encoded data removed]",
      "text/plain": [
       "<Figure size 1200x600 with 1 Axes>"
      ]
     },
     "metadata": {},
     "output_type": "display_data"
    }
   ],
   "source": [
    "import pandas as pd\n",
    "import matplotlib.pyplot as plt\n",
    "\n",
    "# List of DataFrames\n",
    "dataframes = [df1, df2, df3, df4, df5]\n",
    "\n",
    "# Merge the DataFrames\n",
    "merged_df = pd.concat(dataframes, ignore_index=True)\n",
    "\n",
    "# Format the timestamp uniformly\n",
    "merged_df['timestamp'] = pd.to_datetime(merged_df['timestamp'])\n",
    "\n",
    "# Sort the DataFrame by timestamp\n",
    "merged_df = merged_df.sort_values('timestamp')\n",
    "\n",
    "# Plot the timestamp\n",
    "plt.figure(figsize=(12, 6))\n",
    "plt.plot(merged_df['timestamp'], range(len(merged_df)), marker='o')\n",
    "plt.xlabel('Timestamp')\n",
    "plt.ylabel('Index')\n",
    "plt.title('Timestamp Plot')\n",
    "plt.xticks(rotation=45)\n",
    "plt.grid(True)\n",
    "plt.show()"
   ]
  },
  {
   "cell_type": "code",
   "execution_count": 54,
   "metadata": {},
   "outputs": [
    {
     "name": "stdout",
     "output_type": "stream",
     "text": [
      "986298\n",
      "984954\n"
     ]
    }
   ],
   "source": [
    "merged_df = merged_df[merged_df['timestamp'].dt.year < 2022]"
   ]
  },
  {
   "cell_type": "code",
   "execution_count": 56,
   "metadata": {},
   "outputs": [
    {
     "data": {
      "text/plain": [
       "Index(['timestamp', 'text'], dtype='object')"
      ]
     },
     "execution_count": 56,
     "metadata": {},
     "output_type": "execute_result"
    }
   ],
   "source": [
    "merged_df.columns"
   ]
  },
  {
   "cell_type": "code",
   "execution_count": 55,
   "metadata": {},
   "outputs": [],
   "source": [
    "merged_df.to_csv('final_df.csv',index = False)"
   ]
  }
 ],
 "metadata": {
  "kernelspec": {
   "display_name": "venv",
   "language": "python",
   "name": "python3"
  },
  "language_info": {
   "codemirror_mode": {
    "name": "ipython",
    "version": 3
   },
   "file_extension": ".py",
   "mimetype": "text/x-python",
   "name": "python",
   "nbconvert_exporter": "python",
   "pygments_lexer": "ipython3",
   "version": "3.12.2"
  },
  "orig_nbformat": 4
 },
 "nbformat": 4,
 "nbformat_minor": 2
}
